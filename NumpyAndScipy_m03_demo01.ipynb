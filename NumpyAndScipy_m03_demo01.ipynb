{
 "cells": [
  {
   "cell_type": "code",
   "execution_count": null,
   "metadata": {},
   "outputs": [],
   "source": [
    "from scipy.interpolate import interp1d\n",
    "import numpy as np\n",
    "import matplotlib.pyplot as plt"
   ]
  },
  {
   "cell_type": "code",
   "execution_count": null,
   "metadata": {},
   "outputs": [],
   "source": [
    "#Use genfromtxt\n",
    "#This function will load data from a text file"
   ]
  },
  {
   "cell_type": "code",
   "execution_count": 8,
   "metadata": {},
   "outputs": [],
   "source": [
    "#Use genfromtxt\n",
    "#This function will load data from a text file\n",
    "# we will skip the header \n",
    "ages = np.genfromtxt('Ages.csv',delimiter=',',skip_header = 1)"
   ]
  },
  {
   "cell_type": "code",
   "execution_count": null,
   "metadata": {},
   "outputs": [],
   "source": [
    "#Here, the first column is the year, the second one is median age of males and the last column is median age of females"
   ]
  },
  {
   "cell_type": "code",
   "execution_count": 7,
   "metadata": {},
   "outputs": [
    {
     "data": {
      "text/plain": [
       "array([[1890. ,   26.1,   22. ],\n",
       "       [1900. ,   25.9,   21.9],\n",
       "       [1910. ,   25.1,   21.6],\n",
       "       [1920. ,   24.6,   21.2],\n",
       "       [1930. ,   24.3,   21.3],\n",
       "       [1940. ,   24.3,   21.5],\n",
       "       [1950. ,   22.8,   20.3],\n",
       "       [1960. ,   22.8,   20.3],\n",
       "       [1970. ,   23.2,   20.8],\n",
       "       [1980. ,   24.7,   22. ],\n",
       "       [1990. ,   26.1,   23.9],\n",
       "       [2000. ,   26.8,   25.1]])"
      ]
     },
     "execution_count": 7,
     "metadata": {},
     "output_type": "execute_result"
    }
   ],
   "source": [
    "ages"
   ]
  },
  {
   "cell_type": "code",
   "execution_count": 9,
   "metadata": {},
   "outputs": [
    {
     "data": {
      "text/plain": [
       "array([1890., 1900., 1910., 1920., 1930., 1940., 1950., 1960., 1970.,\n",
       "       1980., 1990., 2000.])"
      ]
     },
     "execution_count": 9,
     "metadata": {},
     "output_type": "execute_result"
    }
   ],
   "source": [
    "#Year\n",
    "x = ages[:,0]\n",
    "x\n"
   ]
  },
  {
   "cell_type": "code",
   "execution_count": 12,
   "metadata": {},
   "outputs": [
    {
     "data": {
      "text/plain": [
       "array([26.1, 25.9, 25.1, 24.6, 24.3, 24.3, 22.8, 22.8, 23.2, 24.7, 26.1,\n",
       "       26.8])"
      ]
     },
     "execution_count": 12,
     "metadata": {},
     "output_type": "execute_result"
    }
   ],
   "source": [
    "#Median age of males\n",
    "y = ages[:,1]\n",
    "y\n"
   ]
  },
  {
   "cell_type": "code",
   "execution_count": 13,
   "metadata": {},
   "outputs": [
    {
     "data": {
      "text/plain": [
       "(numpy.ndarray, numpy.ndarray)"
      ]
     },
     "execution_count": 13,
     "metadata": {},
     "output_type": "execute_result"
    }
   ],
   "source": [
    "type(x),type(y)"
   ]
  },
  {
   "cell_type": "markdown",
   "metadata": {},
   "source": [
    "Scipy's interp1d function\n",
    "Here, x and y are arrays of values used to approximate some function f: y = f(x). This will returns a function whose call method uses interpolation to find the value of new points."
   ]
  },
  {
   "cell_type": "code",
   "execution_count": 14,
   "metadata": {},
   "outputs": [],
   "source": [
    "f = interp1d(x, y)"
   ]
  },
  {
   "cell_type": "code",
   "execution_count": 15,
   "metadata": {},
   "outputs": [],
   "source": [
    "xnew = [1896,1907,1912,1923,1929,\n",
    "        1933,1939,1945,1947,1953,\n",
    "        1969,1989,1992,1996,1998]"
   ]
  },
  {
   "cell_type": "code",
   "execution_count": 19,
   "metadata": {},
   "outputs": [
    {
     "data": {
      "text/plain": [
       "array([26.1, 25.9, 25.1, 24.6, 24.3, 24.3, 22.8, 22.8, 23.2, 24.7, 26.1,\n",
       "       26.8])"
      ]
     },
     "execution_count": 19,
     "metadata": {},
     "output_type": "execute_result"
    }
   ],
   "source": [
    "y"
   ]
  }
 ],
 "metadata": {
  "kernelspec": {
   "display_name": "Python 3",
   "language": "python",
   "name": "python3"
  },
  "language_info": {
   "codemirror_mode": {
    "name": "ipython",
    "version": 3
   },
   "file_extension": ".py",
   "mimetype": "text/x-python",
   "name": "python",
   "nbconvert_exporter": "python",
   "pygments_lexer": "ipython3",
   "version": "3.7.1"
  }
 },
 "nbformat": 4,
 "nbformat_minor": 2
}
