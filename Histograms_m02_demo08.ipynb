{
 "cells": [
  {
   "cell_type": "code",
   "execution_count": 1,
   "metadata": {},
   "outputs": [],
   "source": [
    "#The NumPy histogram function applied to an array returns a pair of vectors: the histogram of the array and the vector of bins.\n",
    "#It does not plot the data (for which we need matplotlib)"
   ]
  },
  {
   "cell_type": "code",
   "execution_count": 2,
   "metadata": {},
   "outputs": [],
   "source": [
    "import numpy as np\n",
    "import matplotlib.pyplot as plt"
   ]
  },
  {
   "cell_type": "code",
   "execution_count": 3,
   "metadata": {},
   "outputs": [
    {
     "data": {
      "text/plain": [
       "(array([0, 2, 1], dtype=int32), array([0, 1, 2, 3]))"
      ]
     },
     "execution_count": 3,
     "metadata": {},
     "output_type": "execute_result"
    }
   ],
   "source": [
    "np.histogram([1, 2, 1] , bins = [0, 1, 2, 3])"
   ]
  },
  {
   "cell_type": "code",
   "execution_count": 4,
   "metadata": {},
   "outputs": [],
   "source": [
    "# Create a normal distribution\n",
    "# Mean = 2 \n",
    "# StdDev = 0.5 \n",
    "# Num of data points = 1000\n",
    "mu, sigma = 2 , 0.5\n",
    "data = np.random.normal(mu, sigma, 10000)"
   ]
  },
  {
   "cell_type": "code",
   "execution_count": 5,
   "metadata": {},
   "outputs": [
    {
     "data": {
      "text/plain": [
       "array([2.95980145, 2.87562351, 1.41685781, ..., 1.67037662, 2.1916644 ,\n",
       "       1.91985012])"
      ]
     },
     "execution_count": 5,
     "metadata": {},
     "output_type": "execute_result"
    }
   ],
   "source": [
    "data"
   ]
  },
  {
   "cell_type": "code",
   "execution_count": 6,
   "metadata": {},
   "outputs": [
    {
     "data": {
      "text/plain": [
       "(10000,)"
      ]
     },
     "execution_count": 6,
     "metadata": {},
     "output_type": "execute_result"
    }
   ],
   "source": [
    "data.shape"
   ]
  },
  {
   "cell_type": "code",
   "execution_count": 7,
   "metadata": {},
   "outputs": [],
   "source": [
    "#Here, bins is an integer, it defines the number of equal-width bins in the given range (10, by default).\n",
    "\n",
    "#Numpy computes the occurrences of input data that fall within each bin, which in turns determines the area (not necessarily the height if the bins aren't of equal width) of each bar.\n",
    "\n",
    "#n == number of samples in each bin \n",
    "#bin_edges = The right edges of the bins\n",
    "\n",
    "#NOTE: The number of bin_edges == len(histogram)+1. This is because bin_edges[0] is the left edge of the first bin, while all other values are the right edges of each bin"
   ]
  },
  {
   "cell_type": "code",
   "execution_count": 8,
   "metadata": {},
   "outputs": [],
   "source": [
    "(n, bin_edges) = np.histogram( data , bins = 50 )"
   ]
  },
  {
   "cell_type": "code",
   "execution_count": 9,
   "metadata": {},
   "outputs": [
    {
     "data": {
      "text/plain": [
       "array([  1,   1,   2,   2,   2,   4,   8,  16,  20,  25,  47,  61,  75,\n",
       "       103, 164, 188, 222, 309, 367, 405, 490, 480, 553, 633, 605, 614,\n",
       "       579, 545, 540, 519, 438, 416, 332, 291, 237, 198, 142,  92,  86,\n",
       "        67,  42,  19,  24,  14,   5,  10,   2,   4,   0,   1], dtype=int32)"
      ]
     },
     "execution_count": 9,
     "metadata": {},
     "output_type": "execute_result"
    }
   ],
   "source": [
    "n"
   ]
  },
  {
   "cell_type": "code",
   "execution_count": 10,
   "metadata": {},
   "outputs": [
    {
     "data": {
      "text/plain": [
       "array([0.05292294, 0.12939869, 0.20587444, 0.28235019, 0.35882593,\n",
       "       0.43530168, 0.51177743, 0.58825317, 0.66472892, 0.74120467,\n",
       "       0.81768041, 0.89415616, 0.97063191, 1.04710765, 1.1235834 ,\n",
       "       1.20005915, 1.27653489, 1.35301064, 1.42948639, 1.50596213,\n",
       "       1.58243788, 1.65891363, 1.73538937, 1.81186512, 1.88834087,\n",
       "       1.96481662, 2.04129236, 2.11776811, 2.19424386, 2.2707196 ,\n",
       "       2.34719535, 2.4236711 , 2.50014684, 2.57662259, 2.65309834,\n",
       "       2.72957408, 2.80604983, 2.88252558, 2.95900132, 3.03547707,\n",
       "       3.11195282, 3.18842856, 3.26490431, 3.34138006, 3.4178558 ,\n",
       "       3.49433155, 3.5708073 , 3.64728304, 3.72375879, 3.80023454,\n",
       "       3.87671029])"
      ]
     },
     "execution_count": 10,
     "metadata": {},
     "output_type": "execute_result"
    }
   ],
   "source": [
    "bin_edges"
   ]
  },
  {
   "cell_type": "code",
   "execution_count": 11,
   "metadata": {},
   "outputs": [
    {
     "data": {
      "image/png": "[encoded data removed]",
      "text/plain": [
       "<Figure size 432x288 with 1 Axes>"
      ]
     },
     "metadata": {
      "needs_background": "light"
     },
     "output_type": "display_data"
    }
   ],
   "source": [
    "plt.plot(bin_edges[ 1 : ], n)\n",
    "plt.show()"
   ]
  },
  {
   "cell_type": "code",
   "execution_count": 12,
   "metadata": {},
   "outputs": [],
   "source": [
    "#matplotlib version (plot)\n",
    "#matplotlib also has a function to build histograms (called hist) that differs from the one in NumPy.\n",
    "\n",
    "#The main difference is that pylab.hist plots the histogram automatically, while numpy.histogram only generates the data.\n",
    "\n",
    "#plt.hist([1, 2, 1], bins = [0, 1, 2, 3])\n",
    "#plt.show()\n",
    "#plt.hist([1, 2, 1], bins = [0, 1, 2, 3])"
   ]
  },
  {
   "cell_type": "code",
   "execution_count": 13,
   "metadata": {},
   "outputs": [
    {
     "data": {
      "image/png": "[encoded data removed]",
      "text/plain": [
       "<Figure size 432x288 with 1 Axes>"
      ]
     },
     "metadata": {
      "needs_background": "light"
     },
     "output_type": "display_data"
    }
   ],
   "source": [
    "plt.hist([1, 2, 1], bins = [0, 1, 2, 3])\n",
    "plt.show()"
   ]
  },
  {
   "cell_type": "code",
   "execution_count": 14,
   "metadata": {},
   "outputs": [
    {
     "data": {
      "image/png": "[encoded data removed]",
      "text/plain": [
       "<Figure size 432x288 with 1 Axes>"
      ]
     },
     "metadata": {
      "needs_background": "light"
     },
     "output_type": "display_data"
    }
   ],
   "source": [
    "plt.hist(data, bins = 50)\n",
    "plt.show()"
   ]
  },
  {
   "cell_type": "code",
   "execution_count": 15,
   "metadata": {},
   "outputs": [],
   "source": [
    "#Bin selection can be automated"
   ]
  },
  {
   "cell_type": "code",
   "execution_count": 16,
   "metadata": {},
   "outputs": [
    {
     "data": {
      "image/png": "[encoded data removed]",
      "text/plain": [
       "<Figure size 432x288 with 1 Axes>"
      ]
     },
     "metadata": {
      "needs_background": "light"
     },
     "output_type": "display_data"
    }
   ],
   "source": [
    "plt.hist(data, bins = 'auto')  \n",
    "plt.show()"
   ]
  },
  {
   "cell_type": "code",
   "execution_count": null,
   "metadata": {},
   "outputs": [],
   "source": []
  }
 ],
 "metadata": {
  "kernelspec": {
   "display_name": "Python 3",
   "language": "python",
   "name": "python3"
  },
  "language_info": {
   "codemirror_mode": {
    "name": "ipython",
    "version": 3
   },
   "file_extension": ".py",
   "mimetype": "text/x-python",
   "name": "python",
   "nbconvert_exporter": "python",
   "pygments_lexer": "ipython3",
   "version": "3.7.1"
  }
 },
 "nbformat": 4,
 "nbformat_minor": 2
}
